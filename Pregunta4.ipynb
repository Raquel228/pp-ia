{
  "nbformat": 4,
  "nbformat_minor": 0,
  "metadata": {
    "colab": {
      "provenance": [],
      "authorship_tag": "ABX9TyNlfp8MFgqphEzcSKxK1vQ5",
      "include_colab_link": true
    },
    "kernelspec": {
      "name": "python3",
      "display_name": "Python 3"
    },
    "language_info": {
      "name": "python"
    }
  },
  "cells": [
    {
      "cell_type": "markdown",
      "metadata": {
        "id": "view-in-github",
        "colab_type": "text"
      },
      "source": [
        "<a href=\"https://colab.research.google.com/github/Raquel228/pp-ia/blob/main/Pregunta4.ipynb\" target=\"_parent\"><img src=\"https://colab.research.google.com/assets/colab-badge.svg\" alt=\"Open In Colab\"/></a>"
      ]
    },
    {
      "cell_type": "markdown",
      "source": [
        "4. Con el uso de librerías en PYTHON, construya la dependencia de Abuelos, tios, padres, primos e hijos de su familia."
      ],
      "metadata": {
        "id": "sHRM5vpT4eIz"
      }
    },
    {
      "cell_type": "code",
      "execution_count": null,
      "metadata": {
        "colab": {
          "base_uri": "https://localhost:8080/"
        },
        "id": "zPt_g4PB3D7e",
        "outputId": "e248aeb2-c2fc-4eb6-e952-d785ea116197"
      },
      "outputs": [
        {
          "output_type": "stream",
          "name": "stdout",
          "text": [
            "Dependencias Familiares\n",
            "Papá: ('Eliseo',)\n",
            "Abuelos: ('Anselmo', 'Luis')\n",
            "Abuelas: ('Maria', 'Benjamina')\n",
            "Hijos: ('Josias', 'Raquel', 'Hazael')\n",
            "Hijos: ('Hazael', 'Josias', 'Raquel')\n",
            "Hermanos: {'Maicol', 'Madeleine', 'Victoria'}\n",
            "Tios: {'Olga', 'Samuel', 'Marisol', 'Roberto', 'Jhonny', 'Victor', 'Hilarion', 'Juana', 'Antonia', 'Jose'}\n",
            "Primos: {'Wara', 'Nadia', 'Jaqueline', 'Kenny', 'Madeleine', 'Misael', 'Iris', 'Joselito', 'Priscila', 'Maicol', 'Estefani', 'Victoria'}\n",
            "Sobrinos: {'Valeria', 'Mariela', 'Carlos'}\n"
          ]
        }
      ],
      "source": [
        "from kanren import Relation, facts, var, conde, run\n",
        "from kanren.constraints import neq\n",
        "padre = Relation()\n",
        "madre = Relation()\n",
        "\n",
        "facts(padre, (\"Anselmo\", \"Eliseo\"),(\"Luis\", \"Cleofe\"),(\"Anselmo\", \"Samuel\"),\n",
        " (\"Eliseo\", \"Raquel\"),(\"Eliseo\", \"Josias\"),(\"Eliseo\", \"Hazael\"),\n",
        " (\"Samuel\", \"Wara\"), (\"Samuel\", \"Iris\"),\n",
        " (\"Luis\", \"Marisol\"),(\"Luis\", \"Roberto\"), (\"Luis\", \"Jhonny\"),(\"Luis\", \"Victor\"),(\"Luis\", \"Jose\"),\n",
        " (\"Jose\", \"Jaqueline\"),(\"Jose\", \"Joselito\"),\n",
        " (\"Anselmo\", \"Hilarion\"),(\"Anselmo\", \"Olga\"),(\"Anselmo\", \"Antonia\"),(\"Anselmo\", \"Juana\"),\n",
        " (\"Roberto\", \"Kenny\"),(\"Roberto\", \"Nadia\"),(\"Roberto\", \"Misael\"),\n",
        " (\"Victor\",\"Maicol\"),(\"Victor\",\"Estefani\"),(\"Victor\",\"Madeleine\"),(\"Victor\",\"Victoria\"),\n",
        " (\"Raul\", \"Priscila\"),(\"Rene\", \"Mariela\"),(\"Rene\",\"Carlos\"))\n",
        "facts(madre, (\"Maria\",\"Eliseo\"),(\"Benjamina\", \"Cleofe\"),\n",
        " (\"Cleofe\", \"Raquel\"),(\"Cleofe\", \"Josias\"),(\"Cleofe\", \"Hazael\"),\n",
        " (\"Benjamina\", \"Marisol\"),(\"Benjamina\", \"Roberto\"),(\"Benjamina\", \"Jhonny\"),(\"Benjamina\", \"Victor\"),(\"Benjamina\", \"Jose\"),\n",
        " (\"Maria\", \"Hilarion\"),(\"Maria\", \"Olga\"),(\"Maria\", \"Antonia\"),(\"Maria\", \"Juana\"),(\"Maria\", \"Samuel\"),\n",
        " (\"Susana\", \"Wara\"),(\"Susana\", \"Iris\"),\n",
        " (\"Ely\", \"Jaqueline\"),(\"Jaqueline\", \"Valeria\"),\n",
        " (\"Maritza\", \"Kenny\"), (\"Maritza\", \"Misael\"),(\"Maritza\", \"Nadia\"),\n",
        " (\"Eugenia\",\"Maicol\"),(\"Eugenia\",\"Estefani\"),(\"Eugenia\",\"Madeleine\"),(\"Eugenia\",\"Victoria\"),\n",
        " (\"Olga\", \"Priscila\"),(\"Priscila\", \"Mariela\"),(\"Priscila\",\"Carlos\"))\n",
        "\n",
        "def abuelo(x, z):\n",
        "    y = var()\n",
        "    return conde((padre(x, y), padre(y, z)),\n",
        "                 (padre(x, y), madre(y, z)))\n",
        "def abuela(x, z):\n",
        "  y = var()\n",
        "  return conde((madre(x, y), padre(y, z)),\n",
        "               (madre(x, y), madre(y, z)))\n",
        "def hermano(x, z):\n",
        "    y = var()\n",
        "    return conde((padre(y, x), padre(y, z), neq(x, z)),\n",
        "                 (madre(y, x), madre(y, z), neq(x, z)))\n",
        "\n",
        "def tio(x, z):\n",
        "    y = var()\n",
        "    return conde((padre(y, z), hermano(y, x), neq(y, z)),\n",
        "                 (madre(y, z), hermano(y, x), neq(y, z)))\n",
        "\n",
        "def primo(x, z):\n",
        "    y = var()\n",
        "    return conde((padre(y, x), tio(y, z), neq(x, z)),\n",
        "                 (madre(y, x), tio(y, z), neq(x, z)),)\n",
        "\n",
        "def hijo(x, z):\n",
        "    return conde((padre(z, x),), (madre(z, x),))\n",
        "\n",
        "def sobrino(x, z):\n",
        "    y = var()\n",
        "    return conde((hermano(y, z), hijo(x, y)),\n",
        "                 (primo(y, z), hijo(x, y)))\n",
        "x = var()\n",
        "print(\"Dependencias Familiares\")\n",
        "print(\"Papá:\", run(0, x, padre(x, \"Raquel\")))\n",
        "print(\"Abuelos:\",run(0, x, abuelo(x, \"Raquel\")))\n",
        "print(\"Abuelas:\",run(0, x, abuela(x, \"Raquel\")))\n",
        "print(\"Hijos:\",run(0, x, hijo(x,\"Eliseo\")))\n",
        "print(\"Hijos:\",run(0, x, hijo(x,\"Cleofe\")))\n",
        "\n",
        "print(\"Hermanos:\",set(run(0, x, hermano(x, \"Estefani\"))))\n",
        "print(\"Tios:\",set(run(0, x, tio(x, \"Raquel\"))))\n",
        "print(\"Primos:\",set(run(0, x, primo(x, \"Raquel\"))))\n",
        "print(\"Sobrinos:\", set(run(0, x, sobrino(x, \"Raquel\"))))\n"
      ]
    },
    {
      "cell_type": "code",
      "source": [],
      "metadata": {
        "id": "BRe3uYb86EKw"
      },
      "execution_count": null,
      "outputs": []
    }
  ]
}