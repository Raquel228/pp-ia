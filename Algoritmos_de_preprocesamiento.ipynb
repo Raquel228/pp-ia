{
  "nbformat": 4,
  "nbformat_minor": 0,
  "metadata": {
    "colab": {
      "provenance": [],
      "toc_visible": true,
      "authorship_tag": "ABX9TyOuJhJ4YxUGy3eBxDY5oP/3",
      "include_colab_link": true
    },
    "kernelspec": {
      "name": "python3",
      "display_name": "Python 3"
    },
    "language_info": {
      "name": "python"
    }
  },
  "cells": [
    {
      "cell_type": "markdown",
      "metadata": {
        "id": "view-in-github",
        "colab_type": "text"
      },
      "source": [
        "<a href=\"https://colab.research.google.com/github/Raquel228/pp-ia/blob/main/Algoritmos_de_preprocesamiento.ipynb\" target=\"_parent\"><img src=\"https://colab.research.google.com/assets/colab-badge.svg\" alt=\"Open In Colab\"/></a>"
      ]
    },
    {
      "cell_type": "markdown",
      "source": [
        "#OneHotEncoder\n",
        "El OneHotEncoder es para transformar variables categóricas en variables binarias. Esto es crucial para que los modelos de machine learning puedan interpretar correctamente estas características. Este enfoque es especialmente útil en nuestro dataset, donde tenemos variables categóricas con múltiples clases, como sales_channel, trip_type, route y booking_origin. Transformar estas variables en una serie de variables binarias ayuda a que el modelo pueda entender y procesar estas categorías de manera efectiva, mejorando así la precisión y el rendimiento del modelo.\n"
      ],
      "metadata": {
        "id": "9fTE1V-jfVB1"
      }
    },
    {
      "cell_type": "code",
      "execution_count": 1,
      "metadata": {
        "colab": {
          "base_uri": "https://localhost:8080/"
        },
        "id": "bUZUK27oZE1H",
        "outputId": "2bdddd3a-db45-4646-f931-8893edf7c366"
      },
      "outputs": [
        {
          "output_type": "stream",
          "name": "stdout",
          "text": [
            "   num_passengers  purchase_lead  length_of_stay  flight_hour flight_day  \\\n",
            "0               2            262              19            7        Sat   \n",
            "1               1            112              20            3        Sat   \n",
            "2               2            243              22           17        Wed   \n",
            "3               1             96              31            4        Sat   \n",
            "4               2             68              22           15        Wed   \n",
            "\n",
            "   wants_extra_baggage  wants_preferred_seat  wants_in_flight_meals  \\\n",
            "0                    1                     0                      0   \n",
            "1                    0                     0                      0   \n",
            "2                    1                     1                      0   \n",
            "3                    0                     0                      1   \n",
            "4                    1                     0                      1   \n",
            "\n",
            "   flight_duration  booking_complete  ...  booking_origin_Timor-Leste  \\\n",
            "0             5.52                 0  ...                         0.0   \n",
            "1             5.52                 0  ...                         0.0   \n",
            "2             5.52                 0  ...                         0.0   \n",
            "3             5.52                 0  ...                         0.0   \n",
            "4             5.52                 0  ...                         0.0   \n",
            "\n",
            "   booking_origin_Tonga  booking_origin_Tunisia  booking_origin_Turkey  \\\n",
            "0                   0.0                     0.0                    0.0   \n",
            "1                   0.0                     0.0                    0.0   \n",
            "2                   0.0                     0.0                    0.0   \n",
            "3                   0.0                     0.0                    0.0   \n",
            "4                   0.0                     0.0                    0.0   \n",
            "\n",
            "   booking_origin_Ukraine  booking_origin_United Arab Emirates  \\\n",
            "0                     0.0                                  0.0   \n",
            "1                     0.0                                  0.0   \n",
            "2                     0.0                                  0.0   \n",
            "3                     0.0                                  0.0   \n",
            "4                     0.0                                  0.0   \n",
            "\n",
            "   booking_origin_United Kingdom  booking_origin_United States  \\\n",
            "0                            0.0                           0.0   \n",
            "1                            0.0                           0.0   \n",
            "2                            0.0                           0.0   \n",
            "3                            0.0                           0.0   \n",
            "4                            0.0                           0.0   \n",
            "\n",
            "   booking_origin_Vanuatu  booking_origin_Vietnam  \n",
            "0                     0.0                     0.0  \n",
            "1                     0.0                     0.0  \n",
            "2                     0.0                     0.0  \n",
            "3                     0.0                     0.0  \n",
            "4                     0.0                     0.0  \n",
            "\n",
            "[5 rows x 918 columns]\n"
          ]
        }
      ],
      "source": [
        "import pandas as pd\n",
        "from sklearn.preprocessing import OneHotEncoder\n",
        "\n",
        "# Leer datos del archivo CSV\n",
        "data = pd.read_csv(\"data.csv\", encoding=\"latin1\")\n",
        "\n",
        "# Seleccionar columnas categóricas para aplicar OneHotEncoder\n",
        "categorical_columns = ['sales_channel', 'trip_type', 'route', 'booking_origin']\n",
        "onehotencoder = OneHotEncoder(sparse_output=False)\n",
        "\n",
        "# Aplicar OneHotEncoder\n",
        "encoded_data = onehotencoder.fit_transform(data[categorical_columns])\n",
        "\n",
        "# Convertir a DataFrame y concatenar con el resto de los datos\n",
        "encoded_df = pd.DataFrame(encoded_data, columns=onehotencoder.get_feature_names_out(categorical_columns))\n",
        "data_onehotencoded = pd.concat([data.drop(columns=categorical_columns), encoded_df], axis=1)\n",
        "print(data_onehotencoded.head())\n"
      ]
    },
    {
      "cell_type": "markdown",
      "source": [
        "#StandardScaler\n",
        "El StandardScaler se utiliza para estandarizar las características numéricas del dataset, de modo que tengan una media de 0 y una varianza de 1. Este paso es esencial cuando las características tienen diferentes unidades y escalas, como purchase_lead, length_of_stay, flight_hour y flight_duration. Estandarizar estos datos ayuda a mejorar el rendimiento de algoritmos de machine learning que dependen de la distancia, como SVM y KNN, ya que estas técnicas asumen que todas las características están en la misma escala. Además, esto puede ayudar a acelerar el proceso de entrenamiento y a evitar que ciertas características dominen a otras debido a sus escalas.\n"
      ],
      "metadata": {
        "id": "7yP2WENOgOLc"
      }
    },
    {
      "cell_type": "code",
      "source": [
        "from sklearn.preprocessing import StandardScaler\n",
        "\n",
        "# Seleccionar columnas numéricas para aplicar StandardScaler\n",
        "numerical_columns = ['purchase_lead', 'length_of_stay', 'flight_hour', 'flight_duration']\n",
        "scaler = StandardScaler()\n",
        "\n",
        "# Aplicar StandardScaler\n",
        "scaled_data = scaler.fit_transform(data[numerical_columns])\n",
        "\n",
        "# Convertir a DataFrame y concatenar con el resto de los datos\n",
        "scaled_df = pd.DataFrame(scaled_data, columns=numerical_columns)\n",
        "data_standard_scaled = pd.concat([data.drop(columns=numerical_columns), scaled_df], axis=1)\n",
        "print(data_standard_scaled.head())\n"
      ],
      "metadata": {
        "colab": {
          "base_uri": "https://localhost:8080/"
        },
        "id": "hoZJK7vdaget",
        "outputId": "ae9b3209-7b47-404c-d152-891d5a965783"
      },
      "execution_count": 3,
      "outputs": [
        {
          "output_type": "stream",
          "name": "stdout",
          "text": [
            "   num_passengers sales_channel  trip_type flight_day   route booking_origin  \\\n",
            "0               2      Internet  RoundTrip        Sat  AKLDEL    New Zealand   \n",
            "1               1      Internet  RoundTrip        Sat  AKLDEL    New Zealand   \n",
            "2               2      Internet  RoundTrip        Wed  AKLDEL          India   \n",
            "3               1      Internet  RoundTrip        Sat  AKLDEL    New Zealand   \n",
            "4               2      Internet  RoundTrip        Wed  AKLDEL          India   \n",
            "\n",
            "   wants_extra_baggage  wants_preferred_seat  wants_in_flight_meals  \\\n",
            "0                    1                     0                      0   \n",
            "1                    0                     0                      0   \n",
            "2                    1                     1                      0   \n",
            "3                    0                     0                      1   \n",
            "4                    1                     0                      1   \n",
            "\n",
            "   booking_complete  purchase_lead  length_of_stay  flight_hour  \\\n",
            "0                 0       1.957530       -0.119353    -0.381764   \n",
            "1                 0       0.299164       -0.089844    -1.120780   \n",
            "2                 0       1.747470       -0.030824     1.465775   \n",
            "3                 0       0.122272        0.234761    -0.936026   \n",
            "4                 0      -0.187290       -0.030824     1.096267   \n",
            "\n",
            "   flight_duration  \n",
            "0        -1.174175  \n",
            "1        -1.174175  \n",
            "2        -1.174175  \n",
            "3        -1.174175  \n",
            "4        -1.174175  \n"
          ]
        }
      ]
    },
    {
      "cell_type": "markdown",
      "source": [
        "#LabelEncoder\n",
        "Se usó el LabelEncoder para transformar variables categóricas binarias en enteros. Esto es útil para variables categóricas que solo tienen dos clases y no queremos aumentar la dimensionalidad del dataset con el OneHotEncoder. En nuestro dataset, esto se aplica a columnas como wants_extra_baggage, wants_preferred_seat y wants_in_flight_meals. Al convertir estas variables en enteros, facilitamos la interpretación por parte de los modelos de machine learning sin añadir complejidad innecesaria.\n"
      ],
      "metadata": {
        "id": "oWMwSEx4gTkv"
      }
    },
    {
      "cell_type": "code",
      "source": [
        "from sklearn.preprocessing import LabelEncoder\n",
        "\n",
        "# Seleccionar columnas binarias para aplicar LabelEncoder\n",
        "binary_columns = ['wants_extra_baggage', 'wants_preferred_seat', 'wants_in_flight_meals']\n",
        "labelencoder = LabelEncoder()\n",
        "\n",
        "# Aplicar LabelEncoder\n",
        "for col in binary_columns:\n",
        "    data[col] = labelencoder.fit_transform(data[col])\n",
        "\n",
        "print(data.head())\n"
      ],
      "metadata": {
        "colab": {
          "base_uri": "https://localhost:8080/"
        },
        "id": "iAxVKiRFaigL",
        "outputId": "28abc5eb-b31a-4caa-85ae-a1e327945b3a"
      },
      "execution_count": 4,
      "outputs": [
        {
          "output_type": "stream",
          "name": "stdout",
          "text": [
            "   num_passengers sales_channel  trip_type  purchase_lead  length_of_stay  \\\n",
            "0               2      Internet  RoundTrip            262              19   \n",
            "1               1      Internet  RoundTrip            112              20   \n",
            "2               2      Internet  RoundTrip            243              22   \n",
            "3               1      Internet  RoundTrip             96              31   \n",
            "4               2      Internet  RoundTrip             68              22   \n",
            "\n",
            "   flight_hour flight_day   route booking_origin  wants_extra_baggage  \\\n",
            "0            7        Sat  AKLDEL    New Zealand                    1   \n",
            "1            3        Sat  AKLDEL    New Zealand                    0   \n",
            "2           17        Wed  AKLDEL          India                    1   \n",
            "3            4        Sat  AKLDEL    New Zealand                    0   \n",
            "4           15        Wed  AKLDEL          India                    1   \n",
            "\n",
            "   wants_preferred_seat  wants_in_flight_meals  flight_duration  \\\n",
            "0                     0                      0             5.52   \n",
            "1                     0                      0             5.52   \n",
            "2                     1                      0             5.52   \n",
            "3                     0                      1             5.52   \n",
            "4                     0                      1             5.52   \n",
            "\n",
            "   booking_complete  \n",
            "0                 0  \n",
            "1                 0  \n",
            "2                 0  \n",
            "3                 0  \n",
            "4                 0  \n"
          ]
        }
      ]
    },
    {
      "cell_type": "markdown",
      "source": [
        "#MinMaxScaler\n",
        "El MinMaxScaler se utiliza para escalar las características numéricas a un rango específico, generalmente entre 0 y 1. Esta técnica de normalización es especialmente útil para nuestro dataset ya que garantiza que todas las características numéricas se encuentren dentro de un rango común. Esto es beneficioso para algoritmos como las redes neuronales, que son sensibles a las escalas de las características. Al normalizar los datos, podemos mejorar la convergencia durante el entrenamiento y obtener un rendimiento más consistente del modelo.\n"
      ],
      "metadata": {
        "id": "QVXgglpygXaL"
      }
    },
    {
      "cell_type": "code",
      "source": [
        "from sklearn.preprocessing import MinMaxScaler\n",
        "\n",
        "# Seleccionar columnas numéricas para aplicar MinMaxScaler\n",
        "numerical_columns = ['purchase_lead', 'length_of_stay', 'flight_hour', 'flight_duration']\n",
        "minmax_scaler = MinMaxScaler()\n",
        "\n",
        "# Aplicar MinMaxScaler\n",
        "minmax_scaled_data = minmax_scaler.fit_transform(data[numerical_columns])\n",
        "\n",
        "# Convertir a DataFrame y concatenar con el resto de los datos\n",
        "minmax_scaled_df = pd.DataFrame(minmax_scaled_data, columns=numerical_columns)\n",
        "data_minmax_scaled = pd.concat([data.drop(columns=numerical_columns), minmax_scaled_df], axis=1)\n",
        "print(data_minmax_scaled.head())\n"
      ],
      "metadata": {
        "colab": {
          "base_uri": "https://localhost:8080/"
        },
        "id": "vtu31BXKaixM",
        "outputId": "2895d05a-36c6-466f-c5dd-415c8630ae9b"
      },
      "execution_count": 5,
      "outputs": [
        {
          "output_type": "stream",
          "name": "stdout",
          "text": [
            "   num_passengers sales_channel  trip_type flight_day   route booking_origin  \\\n",
            "0               2      Internet  RoundTrip        Sat  AKLDEL    New Zealand   \n",
            "1               1      Internet  RoundTrip        Sat  AKLDEL    New Zealand   \n",
            "2               2      Internet  RoundTrip        Wed  AKLDEL          India   \n",
            "3               1      Internet  RoundTrip        Sat  AKLDEL    New Zealand   \n",
            "4               2      Internet  RoundTrip        Wed  AKLDEL          India   \n",
            "\n",
            "   wants_extra_baggage  wants_preferred_seat  wants_in_flight_meals  \\\n",
            "0                    1                     0                      0   \n",
            "1                    0                     0                      0   \n",
            "2                    1                     1                      0   \n",
            "3                    0                     0                      1   \n",
            "4                    1                     0                      1   \n",
            "\n",
            "   booking_complete  purchase_lead  length_of_stay  flight_hour  \\\n",
            "0                 0       0.302191        0.024422     0.304348   \n",
            "1                 0       0.129181        0.025707     0.130435   \n",
            "2                 0       0.280277        0.028278     0.739130   \n",
            "3                 0       0.110727        0.039846     0.173913   \n",
            "4                 0       0.078431        0.028278     0.652174   \n",
            "\n",
            "   flight_duration  \n",
            "0         0.175983  \n",
            "1         0.175983  \n",
            "2         0.175983  \n",
            "3         0.175983  \n",
            "4         0.175983  \n"
          ]
        }
      ]
    },
    {
      "cell_type": "markdown",
      "source": [
        "#SimpleImputer\n",
        "El SimpleImputer se emplea para manejar los valores faltantes en el dataset. Este paso es crucial porque los modelos de machine learning no pueden manejar valores faltantes de manera efectiva y la presencia de datos incompletos puede llevar a errores o a una reducción en la precisión del modelo. Utilizar el SimpleImputer permite rellenar los valores faltantes utilizando la media, mediana o una constante, asegurando que el dataset esté completo y listo para el análisis. Esto garantiza que todos los datos estén disponibles para el entrenamiento del modelo, mejorando así su robustez y exactitud."
      ],
      "metadata": {
        "id": "DR1VcBFtgZ3U"
      }
    },
    {
      "cell_type": "code",
      "source": [
        "from sklearn.impute import SimpleImputer\n",
        "\n",
        "# Identificar columnas con valores faltantes (si las hubiera)\n",
        "columns_with_nan = ['purchase_lead', 'length_of_stay', 'flight_hour', 'flight_duration']\n",
        "\n",
        "# Crear un imputador simple que reemplaza los valores faltantes con la mediana\n",
        "imputer = SimpleImputer(strategy='median')\n",
        "\n",
        "# Aplicar SimpleImputer\n",
        "imputed_data = imputer.fit_transform(data[columns_with_nan])\n",
        "\n",
        "# Convertir a DataFrame y concatenar con el resto de los datos\n",
        "imputed_df = pd.DataFrame(imputed_data, columns=columns_with_nan)\n",
        "data_imputed = pd.concat([data.drop(columns=columns_with_nan), imputed_df], axis=1)\n",
        "print(data_imputed.head())"
      ],
      "metadata": {
        "colab": {
          "base_uri": "https://localhost:8080/"
        },
        "id": "JP9hnHmoajBA",
        "outputId": "5885b519-b86f-47a5-c868-56d0ac61e421"
      },
      "execution_count": 7,
      "outputs": [
        {
          "output_type": "stream",
          "name": "stdout",
          "text": [
            "   num_passengers sales_channel  trip_type flight_day   route booking_origin  \\\n",
            "0               2      Internet  RoundTrip        Sat  AKLDEL    New Zealand   \n",
            "1               1      Internet  RoundTrip        Sat  AKLDEL    New Zealand   \n",
            "2               2      Internet  RoundTrip        Wed  AKLDEL          India   \n",
            "3               1      Internet  RoundTrip        Sat  AKLDEL    New Zealand   \n",
            "4               2      Internet  RoundTrip        Wed  AKLDEL          India   \n",
            "\n",
            "   wants_extra_baggage  wants_preferred_seat  wants_in_flight_meals  \\\n",
            "0                    1                     0                      0   \n",
            "1                    0                     0                      0   \n",
            "2                    1                     1                      0   \n",
            "3                    0                     0                      1   \n",
            "4                    1                     0                      1   \n",
            "\n",
            "   booking_complete  purchase_lead  length_of_stay  flight_hour  \\\n",
            "0                 0          262.0            19.0          7.0   \n",
            "1                 0          112.0            20.0          3.0   \n",
            "2                 0          243.0            22.0         17.0   \n",
            "3                 0           96.0            31.0          4.0   \n",
            "4                 0           68.0            22.0         15.0   \n",
            "\n",
            "   flight_duration  \n",
            "0             5.52  \n",
            "1             5.52  \n",
            "2             5.52  \n",
            "3             5.52  \n",
            "4             5.52  \n"
          ]
        }
      ]
    }
  ]
}